{
 "cells": [
  {
   "cell_type": "code",
   "execution_count": null,
   "id": "8d02c97e",
   "metadata": {},
   "outputs": [],
   "source": [
    "# Python PATTERN Programs."
   ]
  },
  {
   "cell_type": "code",
   "execution_count": null,
   "id": "43f2367d",
   "metadata": {},
   "outputs": [],
   "source": [
    "# 1. First_Pattern"
   ]
  },
  {
   "cell_type": "code",
   "execution_count": 2,
   "id": "5e5383db",
   "metadata": {},
   "outputs": [
    {
     "name": "stdout",
     "output_type": "stream",
     "text": [
      "Enter The Number of Rows : 5\n",
      "*****\n",
      "*****\n",
      "*****\n",
      "*****\n",
      "*****\n"
     ]
    }
   ],
   "source": [
    "def FirstPattern():\n",
    "    n = int(input(\"Enter The Number of Rows : \"))\n",
    "    for i in range(1,n+1):\n",
    "        print(\"*\" *n)\n",
    "FirstPattern()"
   ]
  },
  {
   "cell_type": "code",
   "execution_count": null,
   "id": "6c0722a5",
   "metadata": {},
   "outputs": [],
   "source": [
    "# 2. Second_Pattern"
   ]
  },
  {
   "cell_type": "code",
   "execution_count": 3,
   "id": "b92b6b96",
   "metadata": {},
   "outputs": [
    {
     "name": "stdout",
     "output_type": "stream",
     "text": [
      "Enter The Number of Rows : 5\n",
      "1 1 1 1 1 2 2 2 2 2 3 3 3 3 3 4 4 4 4 4 5 5 5 5 5 "
     ]
    }
   ],
   "source": [
    "def SecondPattern():\n",
    "    n = int(input(\"Enter The Number of Rows : \"))\n",
    "    for i in range(1,n+1):\n",
    "        for j in range(1,n+1):\n",
    "            print(i,end=\" \")\n",
    "SecondPattern()\n",
    "\n",
    "# Here the Print() statement not mentioned, so it's displaying number in 1 Row"
   ]
  },
  {
   "cell_type": "code",
   "execution_count": 4,
   "id": "2bbac655",
   "metadata": {},
   "outputs": [
    {
     "name": "stdout",
     "output_type": "stream",
     "text": [
      "Enter The Number of Rows : 5\n",
      "1 \n",
      "1 \n",
      "1 \n",
      "1 \n",
      "1 \n",
      "2 \n",
      "2 \n",
      "2 \n",
      "2 \n",
      "2 \n",
      "3 \n",
      "3 \n",
      "3 \n",
      "3 \n",
      "3 \n",
      "4 \n",
      "4 \n",
      "4 \n",
      "4 \n",
      "4 \n",
      "5 \n",
      "5 \n",
      "5 \n",
      "5 \n",
      "5 \n"
     ]
    }
   ],
   "source": [
    "def SecondPattern():\n",
    "    n = int(input(\"Enter The Number of Rows : \"))\n",
    "    for i in range(1,n+1):\n",
    "        for j in range(1,n+1):\n",
    "            print(i,end=\" \")\n",
    "            print()\n",
    "SecondPattern()\n",
    "# Here the Print() statement mentioned within for loop, so it's displaying number in 1 Column"
   ]
  },
  {
   "cell_type": "code",
   "execution_count": 5,
   "id": "596433a6",
   "metadata": {},
   "outputs": [
    {
     "name": "stdout",
     "output_type": "stream",
     "text": [
      "Enter The Number of Rows : 5\n",
      "1 1 1 1 1 \n",
      "2 2 2 2 2 \n",
      "3 3 3 3 3 \n",
      "4 4 4 4 4 \n",
      "5 5 5 5 5 \n"
     ]
    }
   ],
   "source": [
    "def SecondPattern():\n",
    "    n = int(input(\"Enter The Number of Rows : \"))\n",
    "    for i in range(1,n+1):\n",
    "        for j in range(1,n+1):\n",
    "            print(i,end=\" \")\n",
    "        print()\n",
    "SecondPattern()\n",
    "\n",
    "# Here the Print() statement mentioned as per flow of logic, so it's displaying number in 5 different Rows"
   ]
  },
  {
   "cell_type": "code",
   "execution_count": null,
   "id": "566831a5",
   "metadata": {},
   "outputs": [],
   "source": [
    "# 3. Third_Pattern"
   ]
  },
  {
   "cell_type": "code",
   "execution_count": 6,
   "id": "38b216d5",
   "metadata": {},
   "outputs": [
    {
     "name": "stdout",
     "output_type": "stream",
     "text": [
      "Enter The Number of Rows : 10\n",
      "12345678910\n",
      "12345678910\n",
      "12345678910\n",
      "12345678910\n",
      "12345678910\n",
      "12345678910\n",
      "12345678910\n",
      "12345678910\n",
      "12345678910\n",
      "12345678910\n"
     ]
    }
   ],
   "source": [
    "def ThirdPattern():\n",
    "    n = int(input(\"Enter The Number of Rows : \"))\n",
    "    for i in range (1, n+1):\n",
    "        for j in range (1, n+1):\n",
    "            print(j,end=\"\")\n",
    "        print()\n",
    "ThirdPattern()"
   ]
  },
  {
   "cell_type": "code",
   "execution_count": 7,
   "id": "85902e09",
   "metadata": {},
   "outputs": [
    {
     "name": "stdout",
     "output_type": "stream",
     "text": [
      "Enter The Number of Rows : 3\n",
      "1\n",
      "2\n",
      "3\n",
      "1\n",
      "2\n",
      "3\n",
      "1\n",
      "2\n",
      "3\n"
     ]
    }
   ],
   "source": [
    "def ThirdPattern():\n",
    "    n = int(input(\"Enter The Number of Rows : \"))\n",
    "    for i in range(1,n+1):\n",
    "        for j in range(1,n+1):\n",
    "            print(j,end=\"\")\n",
    "            print()\n",
    "ThirdPattern()"
   ]
  },
  {
   "cell_type": "code",
   "execution_count": null,
   "id": "90220c27",
   "metadata": {},
   "outputs": [],
   "source": [
    "# 4. Fourth_Pattern"
   ]
  },
  {
   "cell_type": "code",
   "execution_count": 8,
   "id": "554970d3",
   "metadata": {},
   "outputs": [
    {
     "name": "stdout",
     "output_type": "stream",
     "text": [
      "Enter The Number of Rows : 5\n",
      "AAAAA\n",
      "BBBBB\n",
      "CCCCC\n",
      "DDDDD\n",
      "EEEEE\n"
     ]
    }
   ],
   "source": [
    "def FourthPattern():\n",
    "    n = int(input(\"Enter The Number of Rows : \"))\n",
    "    for i in range (1,n+1):\n",
    "        for j in range (1,n+1):\n",
    "            print(chr(64+i),end=\"\")\n",
    "        print()\n",
    "FourthPattern()"
   ]
  },
  {
   "cell_type": "code",
   "execution_count": null,
   "id": "3f9f5c50",
   "metadata": {},
   "outputs": [],
   "source": [
    "# 5. Fifth_Pattern"
   ]
  },
  {
   "cell_type": "code",
   "execution_count": 10,
   "id": "fa36e223",
   "metadata": {},
   "outputs": [
    {
     "name": "stdout",
     "output_type": "stream",
     "text": [
      "Enter The Number of Rows : 5\n",
      "ABCDE\n",
      "ABCDE\n",
      "ABCDE\n",
      "ABCDE\n",
      "ABCDE\n"
     ]
    }
   ],
   "source": [
    "def FifthPattern():\n",
    "    n = int(input(\"Enter The Number of Rows : \"))\n",
    "    for i in range (1, n+1):\n",
    "        for j in range (1, n+1):\n",
    "            print(chr(64+j),end=\"\")\n",
    "        print()\n",
    "FifthPattern()"
   ]
  },
  {
   "cell_type": "code",
   "execution_count": null,
   "id": "44de3c5c",
   "metadata": {},
   "outputs": [],
   "source": [
    "# 6. Sixth_Pattern"
   ]
  },
  {
   "cell_type": "code",
   "execution_count": 11,
   "id": "49dbc48c",
   "metadata": {},
   "outputs": [
    {
     "name": "stdout",
     "output_type": "stream",
     "text": [
      "Enter The Number of Rows : 5\n",
      "55555\n",
      "44444\n",
      "33333\n",
      "22222\n",
      "11111\n"
     ]
    }
   ],
   "source": [
    "def SixthPattern():\n",
    "    n = int(input(\"Enter The Number of Rows : \"))\n",
    "    for i in range (1,n+1):\n",
    "        for j in range (1,n+1):\n",
    "            print(n+1-i,end=\"\")\n",
    "        print()\n",
    "SixthPattern()"
   ]
  },
  {
   "cell_type": "code",
   "execution_count": null,
   "id": "28559935",
   "metadata": {},
   "outputs": [],
   "source": [
    "# 7. Seventh_Pattern"
   ]
  },
  {
   "cell_type": "code",
   "execution_count": 12,
   "id": "b748d0d8",
   "metadata": {},
   "outputs": [
    {
     "name": "stdout",
     "output_type": "stream",
     "text": [
      "Enter The Number of Rows : 5\n",
      "54321\n",
      "54321\n",
      "54321\n",
      "54321\n",
      "54321\n"
     ]
    }
   ],
   "source": [
    "def SeventhPattern():\n",
    "    n = int(input(\"Enter The Number of Rows : \"))\n",
    "    for i in range (1,n+1):\n",
    "        for j in range (1,n+1):\n",
    "            print(n+1-j,end=\"\")\n",
    "        print()\n",
    "SeventhPattern()"
   ]
  },
  {
   "cell_type": "code",
   "execution_count": null,
   "id": "85377b3c",
   "metadata": {},
   "outputs": [],
   "source": [
    "# 8. Eighth_Pattern"
   ]
  },
  {
   "cell_type": "code",
   "execution_count": 14,
   "id": "dfd32e3a",
   "metadata": {},
   "outputs": [
    {
     "name": "stdout",
     "output_type": "stream",
     "text": [
      "Enter The Number of Rows : 5\n",
      "EEEEE\n",
      "DDDDD\n",
      "CCCCC\n",
      "BBBBB\n",
      "AAAAA\n"
     ]
    }
   ],
   "source": [
    "def EighthPattern():\n",
    "    n = int(input(\"Enter The Number of Rows : \"))\n",
    "    for i in range (1,n+1):\n",
    "        for j in range (1,n+1):\n",
    "            print(chr(65+n-i),end=\"\")\n",
    "        print()\n",
    "EighthPattern()"
   ]
  },
  {
   "cell_type": "code",
   "execution_count": null,
   "id": "ddebbe15",
   "metadata": {},
   "outputs": [],
   "source": [
    "# 9. Ninth_Pattern"
   ]
  },
  {
   "cell_type": "code",
   "execution_count": 19,
   "id": "1b0dc450",
   "metadata": {},
   "outputs": [
    {
     "name": "stdout",
     "output_type": "stream",
     "text": [
      "Enter The Number of Rows : 5\n",
      "EDCBA\n",
      "EDCBA\n",
      "EDCBA\n",
      "EDCBA\n",
      "EDCBA\n"
     ]
    }
   ],
   "source": [
    "def NinthPattern():\n",
    "    n = int(input(\"Enter The Number of Rows : \"))\n",
    "    for i in range (1,n+1):\n",
    "        for j in range (1,n+1):\n",
    "            print(chr(65+n-j),end=\"\")\n",
    "        print()\n",
    "NinthPattern()"
   ]
  },
  {
   "cell_type": "code",
   "execution_count": null,
   "id": "2ea5ed68",
   "metadata": {},
   "outputs": [],
   "source": [
    "# 10. Tenth_Pattern"
   ]
  },
  {
   "cell_type": "code",
   "execution_count": 21,
   "id": "a06539b4",
   "metadata": {},
   "outputs": [
    {
     "name": "stdout",
     "output_type": "stream",
     "text": [
      "Enter The Number of Rows : 5\n",
      "*\n",
      "**\n",
      "***\n",
      "****\n",
      "*****\n"
     ]
    }
   ],
   "source": [
    "def TenthPattern():\n",
    "    n = int(input(\"Enter The Number of Rows : \"))\n",
    "    for i in range (1,n+1):\n",
    "        for j in range (1,i+1):\n",
    "            print(\"*\",end=\"\")\n",
    "        print()\n",
    "TenthPattern()"
   ]
  },
  {
   "cell_type": "code",
   "execution_count": null,
   "id": "308bf533",
   "metadata": {},
   "outputs": [],
   "source": [
    "# 11. Elevanth_Pattern"
   ]
  },
  {
   "cell_type": "code",
   "execution_count": 24,
   "id": "69caaa68",
   "metadata": {},
   "outputs": [
    {
     "name": "stdout",
     "output_type": "stream",
     "text": [
      "Enter The Number of Rows : 5\n",
      "*\n",
      "**\n",
      "***\n",
      "****\n",
      "*****\n",
      "\n"
     ]
    }
   ],
   "source": [
    "def ElevanthPattern():\n",
    "    n = int(input(\"Enter The Number of Rows : \"))\n",
    "    for i in range (1,n+1):\n",
    "            print(\"*\"*i)\n",
    "    print()\n",
    "ElevanthPattern()"
   ]
  },
  {
   "cell_type": "code",
   "execution_count": 26,
   "id": "f2915131",
   "metadata": {},
   "outputs": [],
   "source": [
    "#12. Twelveth_Pattern"
   ]
  },
  {
   "cell_type": "code",
   "execution_count": 28,
   "id": "4b14eecf",
   "metadata": {},
   "outputs": [
    {
     "name": "stdout",
     "output_type": "stream",
     "text": [
      "Enter The Number of Rows : 5\n",
      "1\n",
      "22\n",
      "333\n",
      "4444\n",
      "55555\n"
     ]
    }
   ],
   "source": [
    "def TwelvethPattern():\n",
    "    n = int(input(\"Enter The Number of Rows : \"))\n",
    "    for i in range (1,n+1):\n",
    "        for j in range (1,i+1):\n",
    "            print(i,end=\"\")\n",
    "        print()\n",
    "TwelvethPattern()\n",
    "            "
   ]
  },
  {
   "cell_type": "code",
   "execution_count": null,
   "id": "b57d2033",
   "metadata": {},
   "outputs": [],
   "source": [
    "#13. Thirteenth_Pattern"
   ]
  },
  {
   "cell_type": "code",
   "execution_count": 29,
   "id": "3f5925d8",
   "metadata": {},
   "outputs": [
    {
     "name": "stdout",
     "output_type": "stream",
     "text": [
      "Enter The Number of Rows : 5\n",
      "1\n",
      "12\n",
      "123\n",
      "1234\n",
      "12345\n"
     ]
    }
   ],
   "source": [
    "def ThirteenthPattern():\n",
    "    n = int(input(\"Enter The Number of Rows : \"))\n",
    "    for i in range (1,n+1):\n",
    "        for j in range (1,i+1):\n",
    "            print(j,end=\"\")\n",
    "        print()\n",
    "ThirteenthPattern()"
   ]
  },
  {
   "cell_type": "code",
   "execution_count": null,
   "id": "554cb6fc",
   "metadata": {},
   "outputs": [],
   "source": [
    "#14. Fourteenth_Pattern"
   ]
  },
  {
   "cell_type": "code",
   "execution_count": 30,
   "id": "0f53cfc5",
   "metadata": {},
   "outputs": [
    {
     "name": "stdout",
     "output_type": "stream",
     "text": [
      "Enter The Number of Rows : 5\n",
      "A\n",
      "BB\n",
      "CCC\n",
      "DDDD\n",
      "EEEEE\n"
     ]
    }
   ],
   "source": [
    "def FourteenthPattern():\n",
    "    n = int(input(\"Enter The Number of Rows : \"))\n",
    "    for i in range (1,n+1):\n",
    "        for j in range (1,i+1):\n",
    "            print(chr(65+i-1),end=\"\")\n",
    "        print()\n",
    "FourteenthPattern()"
   ]
  },
  {
   "cell_type": "code",
   "execution_count": null,
   "id": "a61bd4a8",
   "metadata": {},
   "outputs": [],
   "source": [
    "#15. Fifteenth_pattern"
   ]
  },
  {
   "cell_type": "code",
   "execution_count": 31,
   "id": "724c1b26",
   "metadata": {},
   "outputs": [
    {
     "name": "stdout",
     "output_type": "stream",
     "text": [
      "Enter The Number of Rows : 5\n",
      "A\n",
      "AB\n",
      "ABC\n",
      "ABCD\n",
      "ABCDE\n"
     ]
    }
   ],
   "source": [
    "def FifteenthPattern():\n",
    "    n = int(input(\"Enter The Number of Rows : \"))\n",
    "    for i in range (1,n+1):\n",
    "        for j in range (1,i+1):\n",
    "            print(chr(65+j-1),end=\"\")\n",
    "        print()\n",
    "FifteenthPattern()"
   ]
  },
  {
   "cell_type": "code",
   "execution_count": null,
   "id": "554bb6a4",
   "metadata": {},
   "outputs": [],
   "source": []
  }
 ],
 "metadata": {
  "kernelspec": {
   "display_name": "Python 3",
   "language": "python",
   "name": "python3"
  },
  "language_info": {
   "codemirror_mode": {
    "name": "ipython",
    "version": 3
   },
   "file_extension": ".py",
   "mimetype": "text/x-python",
   "name": "python",
   "nbconvert_exporter": "python",
   "pygments_lexer": "ipython3",
   "version": "3.8.8"
  }
 },
 "nbformat": 4,
 "nbformat_minor": 5
}
